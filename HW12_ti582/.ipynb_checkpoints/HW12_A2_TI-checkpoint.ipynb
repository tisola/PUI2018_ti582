{
 "cells": [
  {
   "cell_type": "markdown",
   "metadata": {},
   "source": [
    "# By: Thomas Isola\n",
    "## Class: PUI 2018\n",
    "## HW #12 Assignment 2"
   ]
  },
  {
   "cell_type": "code",
   "execution_count": 43,
   "metadata": {},
   "outputs": [
    {
     "name": "stdout",
     "output_type": "stream",
     "text": [
      "Populating the interactive namespace from numpy and matplotlib\n"
     ]
    }
   ],
   "source": [
    "import pandas as pd\n",
    "import zipfile\n",
    "import os\n",
    "import pylab as pl\n",
    "import urllib\n",
    "import geopandas as gpd\n",
    "\n",
    "%pylab inline"
   ]
  },
  {
   "cell_type": "code",
   "execution_count": 8,
   "metadata": {},
   "outputs": [
    {
     "name": "stdout",
     "output_type": "stream",
     "text": [
      "PUIdata /nfshome/ti582/PUIdata\n"
     ]
    }
   ],
   "source": [
    "# Check if PUIdata exists\n",
    "import os\n",
    "print(\"PUIdata\", os.getenv(\"PUIDATA\"))"
   ]
  },
  {
   "cell_type": "code",
   "execution_count": 41,
   "metadata": {},
   "outputs": [],
   "source": [
    "# Download the Census data\n",
    "files = ['94', '95', '96', '97', '98', '99', '00', '01', '02', '03', '04', '05', '06', '07', '08',\n",
    "        '09', '10', '11', '12', '13', '14']\n",
    "i = 0\n",
    "for item in files:\n",
    "    url = 'https://github.com/fedhere/PUI2018_fb55/blob/master/HW12_fb55/zbp' + '%s'%files[i] + 'totals.zip?raw=true'\n",
    "    urllib.request.urlretrieve(url, 'zbp' + '%s'%files[i] + 'totals.zip')\n",
    "    file = 'zbp' + '%s'%files[i] + 'totals.zip'\n",
    "    unzippedfile = zipfile.ZipFile(file, 'r')\n",
    "    unzippedfile.extractall(os.getenv('PUIDATA'))\n",
    "    i = i + 1"
   ]
  },
  {
   "cell_type": "code",
   "execution_count": 44,
   "metadata": {},
   "outputs": [],
   "source": [
    "# Download the NYC zipcodes shapefile\n",
    "url = 'https://data.cityofnewyork.us/download/i8iw-xf4u/application%2Fzip'\n",
    "urllib.request.urlretrieve(url, 'nyczipsshp.zip')\n",
    "unzipped = zipfile.ZipFile('nyczipsshp.zip', 'r')\n",
    "unzipped.extractall(os.getenv('PUIDATA'))"
   ]
  },
  {
   "cell_type": "code",
   "execution_count": null,
   "metadata": {},
   "outputs": [],
   "source": []
  }
 ],
 "metadata": {
  "kernelspec": {
   "display_name": "PUI2016_Python3",
   "language": "python",
   "name": "pui2016_python3"
  },
  "language_info": {
   "codemirror_mode": {
    "name": "ipython",
    "version": 3
   },
   "file_extension": ".py",
   "mimetype": "text/x-python",
   "name": "python",
   "nbconvert_exporter": "python",
   "pygments_lexer": "ipython3",
   "version": "3.5.4"
  }
 },
 "nbformat": 4,
 "nbformat_minor": 2
}
